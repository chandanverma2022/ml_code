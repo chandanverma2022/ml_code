{
 "cells": [
  {
   "cell_type": "code",
   "execution_count": 1,
   "id": "40cfe0de",
   "metadata": {},
   "outputs": [],
   "source": [
    "import pandas as pd\n",
    "import numpy as np \n",
    "from sklearn.neighbors import KNeighborsClassifier\n",
    "from matplotlib import pyplot as plt\n",
    "import seaborn as sb"
   ]
  },
  {
   "cell_type": "code",
   "execution_count": 2,
   "id": "8cb14f9c",
   "metadata": {},
   "outputs": [],
   "source": [
    "data=pd.read_csv(r\"C:\\Users\\mail2\\OneDrive\\Desktop\\ML-2022\\Ml_Data\\Bmi_male_female.csv\")"
   ]
  },
  {
   "cell_type": "code",
   "execution_count": 3,
   "id": "364e5220",
   "metadata": {},
   "outputs": [],
   "source": [
    "#pwd"
   ]
  },
  {
   "cell_type": "code",
   "execution_count": 4,
   "id": "0681007f",
   "metadata": {},
   "outputs": [],
   "source": [
    "#data.describe()\n",
    "#data.info()"
   ]
  },
  {
   "cell_type": "code",
   "execution_count": 5,
   "id": "453b4911",
   "metadata": {},
   "outputs": [
    {
     "data": {
      "text/html": [
       "<div>\n",
       "<style scoped>\n",
       "    .dataframe tbody tr th:only-of-type {\n",
       "        vertical-align: middle;\n",
       "    }\n",
       "\n",
       "    .dataframe tbody tr th {\n",
       "        vertical-align: top;\n",
       "    }\n",
       "\n",
       "    .dataframe thead th {\n",
       "        text-align: right;\n",
       "    }\n",
       "</style>\n",
       "<table border=\"1\" class=\"dataframe\">\n",
       "  <thead>\n",
       "    <tr style=\"text-align: right;\">\n",
       "      <th></th>\n",
       "      <th>Gender</th>\n",
       "      <th>Height</th>\n",
       "      <th>Weight</th>\n",
       "      <th>Index</th>\n",
       "    </tr>\n",
       "  </thead>\n",
       "  <tbody>\n",
       "    <tr>\n",
       "      <th>0</th>\n",
       "      <td>Male</td>\n",
       "      <td>174</td>\n",
       "      <td>96</td>\n",
       "      <td>4</td>\n",
       "    </tr>\n",
       "    <tr>\n",
       "      <th>1</th>\n",
       "      <td>Male</td>\n",
       "      <td>189</td>\n",
       "      <td>87</td>\n",
       "      <td>2</td>\n",
       "    </tr>\n",
       "    <tr>\n",
       "      <th>2</th>\n",
       "      <td>Female</td>\n",
       "      <td>185</td>\n",
       "      <td>110</td>\n",
       "      <td>4</td>\n",
       "    </tr>\n",
       "    <tr>\n",
       "      <th>3</th>\n",
       "      <td>Female</td>\n",
       "      <td>195</td>\n",
       "      <td>104</td>\n",
       "      <td>3</td>\n",
       "    </tr>\n",
       "    <tr>\n",
       "      <th>4</th>\n",
       "      <td>Male</td>\n",
       "      <td>149</td>\n",
       "      <td>61</td>\n",
       "      <td>3</td>\n",
       "    </tr>\n",
       "  </tbody>\n",
       "</table>\n",
       "</div>"
      ],
      "text/plain": [
       "   Gender  Height  Weight  Index\n",
       "0    Male     174      96      4\n",
       "1    Male     189      87      2\n",
       "2  Female     185     110      4\n",
       "3  Female     195     104      3\n",
       "4    Male     149      61      3"
      ]
     },
     "execution_count": 5,
     "metadata": {},
     "output_type": "execute_result"
    }
   ],
   "source": [
    "data.head()"
   ]
  },
  {
   "cell_type": "code",
   "execution_count": 6,
   "id": "49e41858",
   "metadata": {},
   "outputs": [],
   "source": [
    "X_male=data[data[\"Gender\"]==\"Male\"]\n",
    "x_female=data[data[\"Gender\"]==\"Female\"]"
   ]
  },
  {
   "cell_type": "code",
   "execution_count": 7,
   "id": "da256538",
   "metadata": {},
   "outputs": [
    {
     "data": {
      "text/plain": [
       "245"
      ]
     },
     "execution_count": 7,
     "metadata": {},
     "output_type": "execute_result"
    }
   ],
   "source": [
    "len(X_male)"
   ]
  },
  {
   "cell_type": "code",
   "execution_count": 8,
   "id": "b8cf3e0b",
   "metadata": {},
   "outputs": [
    {
     "data": {
      "text/plain": [
       "255"
      ]
     },
     "execution_count": 8,
     "metadata": {},
     "output_type": "execute_result"
    }
   ],
   "source": [
    "len(x_female)"
   ]
  },
  {
   "cell_type": "code",
   "execution_count": 9,
   "id": "72d77bc0",
   "metadata": {},
   "outputs": [],
   "source": [
    "X_male_index=X_male[X_male[\"Index\"]==2]"
   ]
  },
  {
   "cell_type": "code",
   "execution_count": 10,
   "id": "3b951473",
   "metadata": {},
   "outputs": [
    {
     "data": {
      "text/plain": [
       "(28, 4)"
      ]
     },
     "execution_count": 10,
     "metadata": {},
     "output_type": "execute_result"
    }
   ],
   "source": [
    "X_male_index.shape"
   ]
  },
  {
   "cell_type": "code",
   "execution_count": 11,
   "id": "316195fa",
   "metadata": {},
   "outputs": [],
   "source": [
    "#data.hist()\n",
    "#plt.show()"
   ]
  },
  {
   "cell_type": "code",
   "execution_count": 12,
   "id": "65786aa6",
   "metadata": {},
   "outputs": [],
   "source": [
    "#sb.countplot(\"Gender\",data=data,hue=\"Index\")\n",
    "#plt.show()"
   ]
  },
  {
   "cell_type": "code",
   "execution_count": 13,
   "id": "74cf2704",
   "metadata": {},
   "outputs": [
    {
     "data": {
      "text/html": [
       "<div>\n",
       "<style scoped>\n",
       "    .dataframe tbody tr th:only-of-type {\n",
       "        vertical-align: middle;\n",
       "    }\n",
       "\n",
       "    .dataframe tbody tr th {\n",
       "        vertical-align: top;\n",
       "    }\n",
       "\n",
       "    .dataframe thead th {\n",
       "        text-align: right;\n",
       "    }\n",
       "</style>\n",
       "<table border=\"1\" class=\"dataframe\">\n",
       "  <thead>\n",
       "    <tr style=\"text-align: right;\">\n",
       "      <th></th>\n",
       "      <th>Gender</th>\n",
       "      <th>Height</th>\n",
       "      <th>Weight</th>\n",
       "      <th>Index</th>\n",
       "    </tr>\n",
       "  </thead>\n",
       "  <tbody>\n",
       "    <tr>\n",
       "      <th>0</th>\n",
       "      <td>Male</td>\n",
       "      <td>174</td>\n",
       "      <td>96</td>\n",
       "      <td>4</td>\n",
       "    </tr>\n",
       "  </tbody>\n",
       "</table>\n",
       "</div>"
      ],
      "text/plain": [
       "  Gender  Height  Weight  Index\n",
       "0   Male     174      96      4"
      ]
     },
     "execution_count": 13,
     "metadata": {},
     "output_type": "execute_result"
    }
   ],
   "source": [
    "# SEPARATE \n",
    "data.head(1)"
   ]
  },
  {
   "cell_type": "code",
   "execution_count": 78,
   "id": "ebb00a3f",
   "metadata": {},
   "outputs": [],
   "source": [
    "X_GHW=data.iloc[:,0:3]\n",
    "Y_index=data.iloc[:,3]"
   ]
  },
  {
   "cell_type": "code",
   "execution_count": 79,
   "id": "44389cdb",
   "metadata": {},
   "outputs": [
    {
     "name": "stdout",
     "output_type": "stream",
     "text": [
      "type of X_GHW <class 'pandas.core.frame.DataFrame'> and  Y_index <class 'pandas.core.series.Series'>\n"
     ]
    }
   ],
   "source": [
    "#X_GHW\n",
    "#Y_index\n",
    "print(\"type of X_GHW {} and  Y_index {}\".format(type(X_GHW),type(Y_index)))"
   ]
  },
  {
   "cell_type": "code",
   "execution_count": 80,
   "id": "bea40ce9",
   "metadata": {},
   "outputs": [
    {
     "data": {
      "text/html": [
       "<div>\n",
       "<style scoped>\n",
       "    .dataframe tbody tr th:only-of-type {\n",
       "        vertical-align: middle;\n",
       "    }\n",
       "\n",
       "    .dataframe tbody tr th {\n",
       "        vertical-align: top;\n",
       "    }\n",
       "\n",
       "    .dataframe thead th {\n",
       "        text-align: right;\n",
       "    }\n",
       "</style>\n",
       "<table border=\"1\" class=\"dataframe\">\n",
       "  <thead>\n",
       "    <tr style=\"text-align: right;\">\n",
       "      <th></th>\n",
       "      <th>Gender</th>\n",
       "      <th>Height</th>\n",
       "      <th>Weight</th>\n",
       "    </tr>\n",
       "  </thead>\n",
       "  <tbody>\n",
       "    <tr>\n",
       "      <th>0</th>\n",
       "      <td>Male</td>\n",
       "      <td>174</td>\n",
       "      <td>96</td>\n",
       "    </tr>\n",
       "  </tbody>\n",
       "</table>\n",
       "</div>"
      ],
      "text/plain": [
       "  Gender  Height  Weight\n",
       "0   Male     174      96"
      ]
     },
     "execution_count": 80,
     "metadata": {},
     "output_type": "execute_result"
    }
   ],
   "source": [
    "X_GHW.head(1)"
   ]
  },
  {
   "cell_type": "markdown",
   "id": "b88185c5",
   "metadata": {},
   "source": [
    "#### encoding male:1 and female:0"
   ]
  },
  {
   "cell_type": "code",
   "execution_count": 81,
   "id": "93e6fcf8",
   "metadata": {},
   "outputs": [
    {
     "name": "stderr",
     "output_type": "stream",
     "text": [
      "C:\\Users\\mail2\\AppData\\Local\\Temp\\ipykernel_16044\\645558885.py:1: SettingWithCopyWarning: \n",
      "A value is trying to be set on a copy of a slice from a DataFrame\n",
      "\n",
      "See the caveats in the documentation: https://pandas.pydata.org/pandas-docs/stable/user_guide/indexing.html#returning-a-view-versus-a-copy\n",
      "  X_GHW.Gender[X_GHW[\"Gender\"]==\"Male\"]=X_GHW.Gender[X_GHW[\"Gender\"]==\"Male\"]=0\n",
      "C:\\Users\\mail2\\AppData\\Local\\Temp\\ipykernel_16044\\645558885.py:2: SettingWithCopyWarning: \n",
      "A value is trying to be set on a copy of a slice from a DataFrame\n",
      "\n",
      "See the caveats in the documentation: https://pandas.pydata.org/pandas-docs/stable/user_guide/indexing.html#returning-a-view-versus-a-copy\n",
      "  X_GHW.Gender[X_GHW[\"Gender\"]==\"Female\"]=X_GHW.Gender[X_GHW[\"Gender\"]==\"Female\"]=1\n"
     ]
    }
   ],
   "source": [
    "X_GHW.Gender[X_GHW[\"Gender\"]==\"Male\"]=X_GHW.Gender[X_GHW[\"Gender\"]==\"Male\"]=0\n",
    "X_GHW.Gender[X_GHW[\"Gender\"]==\"Female\"]=X_GHW.Gender[X_GHW[\"Gender\"]==\"Female\"]=1\n",
    "#X_GHW.Gender[X_GHW[\"Gender\"]==\"Male\"]=1"
   ]
  },
  {
   "cell_type": "code",
   "execution_count": 83,
   "id": "950a162c",
   "metadata": {},
   "outputs": [],
   "source": [
    "#X_GHW"
   ]
  },
  {
   "cell_type": "code",
   "execution_count": 84,
   "id": "b7865440",
   "metadata": {},
   "outputs": [],
   "source": [
    "my_index=pd.Series([\"Extremely Weak\",\"Weak\",\"Normal\",\"Overweight\",\"Obesity\",\"Extreme Obesity\"])"
   ]
  },
  {
   "cell_type": "code",
   "execution_count": 86,
   "id": "605ce2d3",
   "metadata": {},
   "outputs": [],
   "source": [
    "#my_index"
   ]
  },
  {
   "cell_type": "code",
   "execution_count": 90,
   "id": "da20c102",
   "metadata": {},
   "outputs": [],
   "source": [
    "XA=X_GHW.values\n",
    "Ya=Y_index.values"
   ]
  },
  {
   "cell_type": "code",
   "execution_count": 93,
   "id": "79c66994",
   "metadata": {},
   "outputs": [],
   "source": [
    "n=int(len(XA)*.70)\n",
    "Xtrain=XA[:n]\n",
    "Xtest=XA[n:]\n",
    "Ytrain=Ya[:n]\n",
    "Ytest=Ya[n:]"
   ]
  },
  {
   "cell_type": "code",
   "execution_count": 97,
   "id": "65031332",
   "metadata": {},
   "outputs": [],
   "source": [
    "knn_model=KNeighborsClassifier(n_neighbors=5)"
   ]
  },
  {
   "cell_type": "code",
   "execution_count": 98,
   "id": "d9d91a54",
   "metadata": {},
   "outputs": [],
   "source": [
    "Knn_leaner=knn_model.fit(Xtrain,Ytrain)"
   ]
  },
  {
   "cell_type": "code",
   "execution_count": 102,
   "id": "4e5fda02",
   "metadata": {},
   "outputs": [],
   "source": [
    "result=Knn_leaner.predict([[1,162,47]])"
   ]
  },
  {
   "cell_type": "code",
   "execution_count": 103,
   "id": "54891bec",
   "metadata": {},
   "outputs": [
    {
     "data": {
      "text/plain": [
       "2    Normal\n",
       "dtype: object"
      ]
     },
     "execution_count": 103,
     "metadata": {},
     "output_type": "execute_result"
    }
   ],
   "source": [
    "my_index[result]"
   ]
  },
  {
   "cell_type": "code",
   "execution_count": 104,
   "id": "f3c37752",
   "metadata": {},
   "outputs": [],
   "source": [
    "#Test"
   ]
  },
  {
   "cell_type": "code",
   "execution_count": 105,
   "id": "bb29fd14",
   "metadata": {},
   "outputs": [],
   "source": [
    "Yp=knn_model.predict(Xtest)"
   ]
  },
  {
   "cell_type": "code",
   "execution_count": 107,
   "id": "a66f2c37",
   "metadata": {},
   "outputs": [
    {
     "data": {
      "text/plain": [
       "150"
      ]
     },
     "execution_count": 107,
     "metadata": {},
     "output_type": "execute_result"
    }
   ],
   "source": [
    "len(Yp)"
   ]
  },
  {
   "cell_type": "code",
   "execution_count": 110,
   "id": "9022e9fe",
   "metadata": {},
   "outputs": [],
   "source": [
    "#pd.DataFrame({\"Yp\":Yp,\"Ya\":Ytest})"
   ]
  },
  {
   "cell_type": "code",
   "execution_count": 111,
   "id": "b3570dcb",
   "metadata": {},
   "outputs": [],
   "source": [
    "from sklearn.metrics import accuracy_score"
   ]
  },
  {
   "cell_type": "code",
   "execution_count": 113,
   "id": "ddcf16a2",
   "metadata": {},
   "outputs": [
    {
     "data": {
      "text/plain": [
       "91.33333333333333"
      ]
     },
     "execution_count": 113,
     "metadata": {},
     "output_type": "execute_result"
    }
   ],
   "source": [
    "acc_score=accuracy_score(Ytest,Yp)*100\n",
    "acc_score"
   ]
  },
  {
   "cell_type": "code",
   "execution_count": null,
   "id": "28e9ebdb",
   "metadata": {},
   "outputs": [],
   "source": []
  }
 ],
 "metadata": {
  "kernelspec": {
   "display_name": "Python 3 (ipykernel)",
   "language": "python",
   "name": "python3"
  },
  "language_info": {
   "codemirror_mode": {
    "name": "ipython",
    "version": 3
   },
   "file_extension": ".py",
   "mimetype": "text/x-python",
   "name": "python",
   "nbconvert_exporter": "python",
   "pygments_lexer": "ipython3",
   "version": "3.9.12"
  }
 },
 "nbformat": 4,
 "nbformat_minor": 5
}
