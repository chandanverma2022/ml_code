{
 "cells": [
  {
   "cell_type": "code",
   "execution_count": 1,
   "id": "c519e18f",
   "metadata": {},
   "outputs": [],
   "source": [
    "import pandas as pd"
   ]
  },
  {
   "cell_type": "code",
   "execution_count": 3,
   "id": "4f7266ff",
   "metadata": {},
   "outputs": [],
   "source": [
    "#pd.__version__"
   ]
  },
  {
   "cell_type": "code",
   "execution_count": 4,
   "id": "a37407aa",
   "metadata": {},
   "outputs": [],
   "source": [
    "list_1=[11,12,13]\n",
    "dic_1={\"Name\":[\"a\",\"b\"],\"age\":[12,13]}"
   ]
  },
  {
   "cell_type": "code",
   "execution_count": 7,
   "id": "ae4b6220",
   "metadata": {},
   "outputs": [],
   "source": [
    "#list_1"
   ]
  },
  {
   "cell_type": "code",
   "execution_count": 8,
   "id": "549882de",
   "metadata": {},
   "outputs": [],
   "source": [
    "#dic_1"
   ]
  },
  {
   "cell_type": "markdown",
   "id": "6bf48f98",
   "metadata": {},
   "source": [
    "#### Series"
   ]
  },
  {
   "cell_type": "code",
   "execution_count": 11,
   "id": "377e2ea2",
   "metadata": {},
   "outputs": [],
   "source": [
    "series_1=pd.Series(list_1,index=[\"one\",\"two\",\"three\"])"
   ]
  },
  {
   "cell_type": "code",
   "execution_count": 29,
   "id": "f411b07b",
   "metadata": {},
   "outputs": [],
   "source": [
    "#series_1"
   ]
  },
  {
   "cell_type": "code",
   "execution_count": 30,
   "id": "9c12d89c",
   "metadata": {},
   "outputs": [],
   "source": [
    "#type(list(series_1.values))"
   ]
  },
  {
   "cell_type": "code",
   "execution_count": 31,
   "id": "cbf7dec5",
   "metadata": {},
   "outputs": [],
   "source": [
    "#dic_1"
   ]
  },
  {
   "cell_type": "code",
   "execution_count": 32,
   "id": "ee45c157",
   "metadata": {},
   "outputs": [],
   "source": [
    "#df=pd.DataFrame(dic_1)"
   ]
  },
  {
   "cell_type": "code",
   "execution_count": 20,
   "id": "2cac068b",
   "metadata": {},
   "outputs": [
    {
     "data": {
      "text/html": [
       "<div>\n",
       "<style scoped>\n",
       "    .dataframe tbody tr th:only-of-type {\n",
       "        vertical-align: middle;\n",
       "    }\n",
       "\n",
       "    .dataframe tbody tr th {\n",
       "        vertical-align: top;\n",
       "    }\n",
       "\n",
       "    .dataframe thead th {\n",
       "        text-align: right;\n",
       "    }\n",
       "</style>\n",
       "<table border=\"1\" class=\"dataframe\">\n",
       "  <thead>\n",
       "    <tr style=\"text-align: right;\">\n",
       "      <th></th>\n",
       "      <th>Name</th>\n",
       "      <th>age</th>\n",
       "    </tr>\n",
       "  </thead>\n",
       "  <tbody>\n",
       "    <tr>\n",
       "      <th>0</th>\n",
       "      <td>a</td>\n",
       "      <td>12</td>\n",
       "    </tr>\n",
       "    <tr>\n",
       "      <th>1</th>\n",
       "      <td>b</td>\n",
       "      <td>13</td>\n",
       "    </tr>\n",
       "  </tbody>\n",
       "</table>\n",
       "</div>"
      ],
      "text/plain": [
       "  Name  age\n",
       "0    a   12\n",
       "1    b   13"
      ]
     },
     "execution_count": 20,
     "metadata": {},
     "output_type": "execute_result"
    }
   ],
   "source": [
    "df"
   ]
  },
  {
   "cell_type": "code",
   "execution_count": 33,
   "id": "30040572",
   "metadata": {},
   "outputs": [],
   "source": [
    "#type(df)"
   ]
  },
  {
   "cell_type": "code",
   "execution_count": 28,
   "id": "e65e058f",
   "metadata": {},
   "outputs": [],
   "source": [
    "#type(df.values)"
   ]
  },
  {
   "cell_type": "code",
   "execution_count": 26,
   "id": "df91293d",
   "metadata": {},
   "outputs": [],
   "source": [
    "#df.shape"
   ]
  },
  {
   "cell_type": "code",
   "execution_count": 27,
   "id": "83bc4a7a",
   "metadata": {},
   "outputs": [],
   "source": [
    "#len(df)"
   ]
  },
  {
   "cell_type": "code",
   "execution_count": 36,
   "id": "fd53ffbb",
   "metadata": {},
   "outputs": [],
   "source": [
    "#df.columns.tolist()"
   ]
  },
  {
   "cell_type": "markdown",
   "id": "43acb49a",
   "metadata": {},
   "source": [
    "# ### reading file using pandas"
   ]
  },
  {
   "cell_type": "code",
   "execution_count": 39,
   "id": "92931b49",
   "metadata": {},
   "outputs": [],
   "source": [
    "india_pop=pd.read_excel(r\"C:\\Users\\mail2\\OneDrive\\Desktop\\ML-2022\\Ml_Data\\Population_Summary.xlsx\")"
   ]
  },
  {
   "cell_type": "code",
   "execution_count": 41,
   "id": "00312740",
   "metadata": {},
   "outputs": [],
   "source": [
    "#india_pop"
   ]
  },
  {
   "cell_type": "code",
   "execution_count": 42,
   "id": "d322d180",
   "metadata": {},
   "outputs": [
    {
     "data": {
      "text/plain": [
       "(35, 9)"
      ]
     },
     "execution_count": 42,
     "metadata": {},
     "output_type": "execute_result"
    }
   ],
   "source": [
    "india_pop.shape"
   ]
  },
  {
   "cell_type": "code",
   "execution_count": 44,
   "id": "f21f9e75",
   "metadata": {},
   "outputs": [],
   "source": [
    "#india_pop.describe()"
   ]
  },
  {
   "cell_type": "code",
   "execution_count": 49,
   "id": "ed360268",
   "metadata": {},
   "outputs": [],
   "source": [
    "#india_pop.head(5)\n",
    "#india_pop.sample(5)"
   ]
  },
  {
   "cell_type": "code",
   "execution_count": 51,
   "id": "5ba79712",
   "metadata": {},
   "outputs": [
    {
     "data": {
      "text/plain": [
       "Index(['Rank', 'State_UT', 'Population', 'Rulal', 'Urban', 'Share', 'Growth',\n",
       "       'Country', 'World_Rank'],\n",
       "      dtype='object')"
      ]
     },
     "execution_count": 51,
     "metadata": {},
     "output_type": "execute_result"
    }
   ],
   "source": [
    "india_pop.columns"
   ]
  },
  {
   "cell_type": "code",
   "execution_count": 59,
   "id": "5c98170f",
   "metadata": {},
   "outputs": [],
   "source": [
    "Population_1=india_pop[[\"Population\",\"State_UT\"]]\n",
    "#Population_1=india_pop.Population\n"
   ]
  },
  {
   "cell_type": "code",
   "execution_count": 62,
   "id": "bac0eab6",
   "metadata": {},
   "outputs": [
    {
     "data": {
      "text/html": [
       "<div>\n",
       "<style scoped>\n",
       "    .dataframe tbody tr th:only-of-type {\n",
       "        vertical-align: middle;\n",
       "    }\n",
       "\n",
       "    .dataframe tbody tr th {\n",
       "        vertical-align: top;\n",
       "    }\n",
       "\n",
       "    .dataframe thead th {\n",
       "        text-align: right;\n",
       "    }\n",
       "</style>\n",
       "<table border=\"1\" class=\"dataframe\">\n",
       "  <thead>\n",
       "    <tr style=\"text-align: right;\">\n",
       "      <th></th>\n",
       "      <th>Rank</th>\n",
       "      <th>State_UT</th>\n",
       "      <th>Population</th>\n",
       "      <th>Rulal</th>\n",
       "      <th>Urban</th>\n",
       "      <th>Share</th>\n",
       "      <th>Growth</th>\n",
       "      <th>Country</th>\n",
       "      <th>World_Rank</th>\n",
       "    </tr>\n",
       "  </thead>\n",
       "  <tbody>\n",
       "    <tr>\n",
       "      <th>0</th>\n",
       "      <td>1</td>\n",
       "      <td>Uttar Pradesh</td>\n",
       "      <td>199812341</td>\n",
       "      <td>77.73</td>\n",
       "      <td>22.27</td>\n",
       "      <td>16.5</td>\n",
       "      <td>20.23</td>\n",
       "      <td>Brazil</td>\n",
       "      <td>5</td>\n",
       "    </tr>\n",
       "  </tbody>\n",
       "</table>\n",
       "</div>"
      ],
      "text/plain": [
       "  Rank       State_UT  Population  Rulal  Urban  Share  Growth Country  \\\n",
       "0    1  Uttar Pradesh   199812341  77.73  22.27   16.5   20.23  Brazil   \n",
       "\n",
       "   World_Rank  \n",
       "0           5  "
      ]
     },
     "execution_count": 62,
     "metadata": {},
     "output_type": "execute_result"
    }
   ],
   "source": [
    "#type(Population_1)\n",
    "india_pop.head(1)"
   ]
  },
  {
   "cell_type": "code",
   "execution_count": 68,
   "id": "f79eb563",
   "metadata": {},
   "outputs": [
    {
     "data": {
      "text/html": [
       "<div>\n",
       "<style scoped>\n",
       "    .dataframe tbody tr th:only-of-type {\n",
       "        vertical-align: middle;\n",
       "    }\n",
       "\n",
       "    .dataframe tbody tr th {\n",
       "        vertical-align: top;\n",
       "    }\n",
       "\n",
       "    .dataframe thead th {\n",
       "        text-align: right;\n",
       "    }\n",
       "</style>\n",
       "<table border=\"1\" class=\"dataframe\">\n",
       "  <thead>\n",
       "    <tr style=\"text-align: right;\">\n",
       "      <th></th>\n",
       "      <th>State_UT</th>\n",
       "      <th>Population</th>\n",
       "      <th>Rulal</th>\n",
       "    </tr>\n",
       "  </thead>\n",
       "  <tbody>\n",
       "    <tr>\n",
       "      <th>0</th>\n",
       "      <td>Uttar Pradesh</td>\n",
       "      <td>199812341</td>\n",
       "      <td>77.73</td>\n",
       "    </tr>\n",
       "    <tr>\n",
       "      <th>1</th>\n",
       "      <td>Maharashtra</td>\n",
       "      <td>112374333</td>\n",
       "      <td>54.78</td>\n",
       "    </tr>\n",
       "    <tr>\n",
       "      <th>2</th>\n",
       "      <td>Bihar</td>\n",
       "      <td>104099452</td>\n",
       "      <td>88.71</td>\n",
       "    </tr>\n",
       "    <tr>\n",
       "      <th>3</th>\n",
       "      <td>West Bengal</td>\n",
       "      <td>91276115</td>\n",
       "      <td>68.13</td>\n",
       "    </tr>\n",
       "    <tr>\n",
       "      <th>4</th>\n",
       "      <td>Andhra Pradesh</td>\n",
       "      <td>84580777</td>\n",
       "      <td>66.64</td>\n",
       "    </tr>\n",
       "    <tr>\n",
       "      <th>5</th>\n",
       "      <td>Madhya Pradesh</td>\n",
       "      <td>72626809</td>\n",
       "      <td>72.37</td>\n",
       "    </tr>\n",
       "    <tr>\n",
       "      <th>6</th>\n",
       "      <td>Tamil Nadu</td>\n",
       "      <td>72147030</td>\n",
       "      <td>51.60</td>\n",
       "    </tr>\n",
       "    <tr>\n",
       "      <th>7</th>\n",
       "      <td>Rajasthan</td>\n",
       "      <td>68548437</td>\n",
       "      <td>75.13</td>\n",
       "    </tr>\n",
       "    <tr>\n",
       "      <th>8</th>\n",
       "      <td>Karnataka</td>\n",
       "      <td>61095297</td>\n",
       "      <td>61.33</td>\n",
       "    </tr>\n",
       "    <tr>\n",
       "      <th>9</th>\n",
       "      <td>Gujarat</td>\n",
       "      <td>60439692</td>\n",
       "      <td>57.40</td>\n",
       "    </tr>\n",
       "    <tr>\n",
       "      <th>10</th>\n",
       "      <td>Odisha</td>\n",
       "      <td>41974218</td>\n",
       "      <td>83.31</td>\n",
       "    </tr>\n",
       "  </tbody>\n",
       "</table>\n",
       "</div>"
      ],
      "text/plain": [
       "          State_UT  Population  Rulal\n",
       "0    Uttar Pradesh   199812341  77.73\n",
       "1      Maharashtra   112374333  54.78\n",
       "2            Bihar   104099452  88.71\n",
       "3      West Bengal    91276115  68.13\n",
       "4   Andhra Pradesh    84580777  66.64\n",
       "5   Madhya Pradesh    72626809  72.37\n",
       "6       Tamil Nadu    72147030  51.60\n",
       "7        Rajasthan    68548437  75.13\n",
       "8        Karnataka    61095297  61.33\n",
       "9          Gujarat    60439692  57.40\n",
       "10          Odisha    41974218  83.31"
      ]
     },
     "execution_count": 68,
     "metadata": {},
     "output_type": "execute_result"
    }
   ],
   "source": [
    "india_pop.loc[:10,\"State_UT\":\"Rulal\"]"
   ]
  },
  {
   "cell_type": "code",
   "execution_count": null,
   "id": "5d703e8f",
   "metadata": {},
   "outputs": [],
   "source": []
  }
 ],
 "metadata": {
  "kernelspec": {
   "display_name": "Python 3 (ipykernel)",
   "language": "python",
   "name": "python3"
  },
  "language_info": {
   "codemirror_mode": {
    "name": "ipython",
    "version": 3
   },
   "file_extension": ".py",
   "mimetype": "text/x-python",
   "name": "python",
   "nbconvert_exporter": "python",
   "pygments_lexer": "ipython3",
   "version": "3.9.12"
  }
 },
 "nbformat": 4,
 "nbformat_minor": 5
}
