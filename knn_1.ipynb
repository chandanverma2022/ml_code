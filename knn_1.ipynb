{
 "cells": [
  {
   "cell_type": "code",
   "execution_count": 1,
   "id": "d3925aae",
   "metadata": {},
   "outputs": [],
   "source": [
    "import numpy as np\n",
    "import pandas as pd"
   ]
  },
  {
   "cell_type": "code",
   "execution_count": 2,
   "id": "49c58b22",
   "metadata": {},
   "outputs": [],
   "source": [
    "X_feature=np.array([[1,9],[2,8],[3,7],[2,8],[6,4],[9,1],[8,2],[9,1],[1,1],[5,5]])"
   ]
  },
  {
   "cell_type": "code",
   "execution_count": 3,
   "id": "835723be",
   "metadata": {},
   "outputs": [
    {
     "data": {
      "text/plain": [
       "array([[1, 9],\n",
       "       [2, 8],\n",
       "       [3, 7],\n",
       "       [2, 8],\n",
       "       [6, 4],\n",
       "       [9, 1],\n",
       "       [8, 2],\n",
       "       [9, 1],\n",
       "       [1, 1],\n",
       "       [5, 5]])"
      ]
     },
     "execution_count": 3,
     "metadata": {},
     "output_type": "execute_result"
    }
   ],
   "source": [
    "X_feature"
   ]
  },
  {
   "cell_type": "code",
   "execution_count": 4,
   "id": "b7076df8",
   "metadata": {},
   "outputs": [
    {
     "data": {
      "text/plain": [
       "(10, 2)"
      ]
     },
     "execution_count": 4,
     "metadata": {},
     "output_type": "execute_result"
    }
   ],
   "source": [
    "X_feature.shape"
   ]
  },
  {
   "cell_type": "code",
   "execution_count": 21,
   "id": "d1732a27",
   "metadata": {},
   "outputs": [],
   "source": [
    "Y_target=np.array([\"Sour\",\"Sour\",\"Sour\",\"Sour\",\"Sweet\",\"Sweet\",\"Sweet\",\"Sweet\",\"None\",\"Sour\"])"
   ]
  },
  {
   "cell_type": "code",
   "execution_count": 22,
   "id": "17208eb6",
   "metadata": {},
   "outputs": [],
   "source": [
    "Y_target=Y_target.reshape(10,1)"
   ]
  },
  {
   "cell_type": "code",
   "execution_count": 23,
   "id": "82c3a5a3",
   "metadata": {},
   "outputs": [
    {
     "data": {
      "text/plain": [
       "(10, 1)"
      ]
     },
     "execution_count": 23,
     "metadata": {},
     "output_type": "execute_result"
    }
   ],
   "source": [
    "Y_target.shape"
   ]
  },
  {
   "cell_type": "code",
   "execution_count": 24,
   "id": "89cb6ab0",
   "metadata": {},
   "outputs": [],
   "source": [
    "df=pd.DataFrame(X_feature,columns=[\"Sweetness\",\"Sourness\"])"
   ]
  },
  {
   "cell_type": "code",
   "execution_count": 25,
   "id": "21b40432",
   "metadata": {},
   "outputs": [],
   "source": [
    "#df"
   ]
  },
  {
   "cell_type": "code",
   "execution_count": 26,
   "id": "61c6e33a",
   "metadata": {},
   "outputs": [],
   "source": [
    "from sklearn.neighbors import KNeighborsClassifier"
   ]
  },
  {
   "cell_type": "code",
   "execution_count": 35,
   "id": "ae46e29f",
   "metadata": {},
   "outputs": [],
   "source": [
    "knn_trainer=KNeighborsClassifier(n_neighbors=1)"
   ]
  },
  {
   "cell_type": "code",
   "execution_count": 36,
   "id": "88170a69",
   "metadata": {},
   "outputs": [
    {
     "name": "stderr",
     "output_type": "stream",
     "text": [
      "C:\\Users\\mail2\\Anaconda3\\lib\\site-packages\\sklearn\\neighbors\\_classification.py:198: DataConversionWarning: A column-vector y was passed when a 1d array was expected. Please change the shape of y to (n_samples,), for example using ravel().\n",
      "  return self._fit(X, y)\n"
     ]
    }
   ],
   "source": [
    "knn_learner=knn_trainer.fit(X_feature,Y_target)"
   ]
  },
  {
   "cell_type": "code",
   "execution_count": 37,
   "id": "250fdf83",
   "metadata": {},
   "outputs": [],
   "source": [
    "#knn_learner.metric"
   ]
  },
  {
   "cell_type": "code",
   "execution_count": 38,
   "id": "26e7c320",
   "metadata": {},
   "outputs": [
    {
     "data": {
      "text/plain": [
       "array(['Sweet'], dtype='<U5')"
      ]
     },
     "execution_count": 38,
     "metadata": {},
     "output_type": "execute_result"
    }
   ],
   "source": [
    "knn_learner.predict([[7,2]])"
   ]
  },
  {
   "cell_type": "code",
   "execution_count": 41,
   "id": "29e8350e",
   "metadata": {},
   "outputs": [
    {
     "data": {
      "text/plain": [
       "array(['None'], dtype='<U5')"
      ]
     },
     "execution_count": 41,
     "metadata": {},
     "output_type": "execute_result"
    }
   ],
   "source": [
    "knn_learner.predict([[2,2]])"
   ]
  },
  {
   "cell_type": "code",
   "execution_count": null,
   "id": "55205fad",
   "metadata": {},
   "outputs": [],
   "source": []
  }
 ],
 "metadata": {
  "kernelspec": {
   "display_name": "Python 3 (ipykernel)",
   "language": "python",
   "name": "python3"
  },
  "language_info": {
   "codemirror_mode": {
    "name": "ipython",
    "version": 3
   },
   "file_extension": ".py",
   "mimetype": "text/x-python",
   "name": "python",
   "nbconvert_exporter": "python",
   "pygments_lexer": "ipython3",
   "version": "3.9.12"
  }
 },
 "nbformat": 4,
 "nbformat_minor": 5
}
