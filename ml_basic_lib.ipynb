{
 "cells": [
  {
   "cell_type": "code",
   "execution_count": 2,
   "id": "c41c9888",
   "metadata": {},
   "outputs": [],
   "source": [
    "import numpy as np\n",
    "#from numpy import array as ar"
   ]
  },
  {
   "cell_type": "code",
   "execution_count": 3,
   "id": "cc038033",
   "metadata": {},
   "outputs": [
    {
     "name": "stdout",
     "output_type": "stream",
     "text": [
      "<class 'list'>\n"
     ]
    }
   ],
   "source": [
    "a_list=[10,11,12,13]\n",
    "print(type(a_list))"
   ]
  },
  {
   "cell_type": "code",
   "execution_count": 4,
   "id": "d92bce54",
   "metadata": {},
   "outputs": [
    {
     "data": {
      "text/plain": [
       "4"
      ]
     },
     "execution_count": 4,
     "metadata": {},
     "output_type": "execute_result"
    }
   ],
   "source": [
    "len(a_list)"
   ]
  },
  {
   "cell_type": "code",
   "execution_count": 6,
   "id": "558e6c9d",
   "metadata": {},
   "outputs": [
    {
     "data": {
      "text/plain": [
       "13"
      ]
     },
     "execution_count": 6,
     "metadata": {},
     "output_type": "execute_result"
    }
   ],
   "source": [
    "a_list[len(a_list)-1]"
   ]
  },
  {
   "cell_type": "code",
   "execution_count": 7,
   "id": "d9d4c05f",
   "metadata": {},
   "outputs": [],
   "source": [
    "array_1=np.array(a_list)"
   ]
  },
  {
   "cell_type": "code",
   "execution_count": 8,
   "id": "17317ac8",
   "metadata": {},
   "outputs": [
    {
     "data": {
      "text/plain": [
       "array([10, 11, 12, 13])"
      ]
     },
     "execution_count": 8,
     "metadata": {},
     "output_type": "execute_result"
    }
   ],
   "source": [
    "array_1"
   ]
  },
  {
   "cell_type": "code",
   "execution_count": 9,
   "id": "d8e3160c",
   "metadata": {},
   "outputs": [
    {
     "data": {
      "text/plain": [
       "numpy.ndarray"
      ]
     },
     "execution_count": 9,
     "metadata": {},
     "output_type": "execute_result"
    }
   ],
   "source": [
    "type(array_1)"
   ]
  },
  {
   "cell_type": "code",
   "execution_count": 10,
   "id": "935f20fa",
   "metadata": {},
   "outputs": [
    {
     "data": {
      "text/plain": [
       "10"
      ]
     },
     "execution_count": 10,
     "metadata": {},
     "output_type": "execute_result"
    }
   ],
   "source": [
    "array_1[0]"
   ]
  },
  {
   "cell_type": "code",
   "execution_count": 11,
   "id": "a558abd1",
   "metadata": {},
   "outputs": [
    {
     "data": {
      "text/plain": [
       "13"
      ]
     },
     "execution_count": 11,
     "metadata": {},
     "output_type": "execute_result"
    }
   ],
   "source": [
    "array_1[-1]"
   ]
  },
  {
   "cell_type": "code",
   "execution_count": 21,
   "id": "5323e189",
   "metadata": {},
   "outputs": [],
   "source": [
    "#len(array_1)\n",
    "#array_1.shape\n",
    "#array_1.size\n",
    "#array_1.dtype\n",
    "#array_1.ndim"
   ]
  },
  {
   "cell_type": "code",
   "execution_count": 19,
   "id": "9c14a43a",
   "metadata": {},
   "outputs": [],
   "source": [
    "#np.mean(array_1)\n",
    "#np.std(array_1)"
   ]
  },
  {
   "cell_type": "code",
   "execution_count": 30,
   "id": "a90caa9d",
   "metadata": {},
   "outputs": [],
   "source": [
    "array_2d=np.array([[11.0,12,13],[14,15,16],[17,18,19],[2,3,4]])"
   ]
  },
  {
   "cell_type": "code",
   "execution_count": 31,
   "id": "9b8a9f98",
   "metadata": {},
   "outputs": [
    {
     "data": {
      "text/plain": [
       "array([[11., 12., 13.],\n",
       "       [14., 15., 16.],\n",
       "       [17., 18., 19.],\n",
       "       [ 2.,  3.,  4.]])"
      ]
     },
     "execution_count": 31,
     "metadata": {},
     "output_type": "execute_result"
    }
   ],
   "source": [
    "array_2d"
   ]
  },
  {
   "cell_type": "code",
   "execution_count": 34,
   "id": "e362c5d9",
   "metadata": {},
   "outputs": [
    {
     "data": {
      "text/plain": [
       "2"
      ]
     },
     "execution_count": 34,
     "metadata": {},
     "output_type": "execute_result"
    }
   ],
   "source": [
    "#len(array_2d)\n",
    "#array_2d.shape\n",
    "#array_2d.size\n",
    "#array_2d.dtype\n",
    "#array_2d.ndim"
   ]
  },
  {
   "cell_type": "code",
   "execution_count": 36,
   "id": "5df5038a",
   "metadata": {},
   "outputs": [
    {
     "data": {
      "text/plain": [
       "array([[11., 12., 13.],\n",
       "       [14., 15., 16.],\n",
       "       [17., 18., 19.],\n",
       "       [ 2.,  3.,  4.]])"
      ]
     },
     "execution_count": 36,
     "metadata": {},
     "output_type": "execute_result"
    }
   ],
   "source": [
    "array_2d"
   ]
  },
  {
   "cell_type": "code",
   "execution_count": 40,
   "id": "725ea497",
   "metadata": {},
   "outputs": [
    {
     "data": {
      "text/plain": [
       "array([36., 45., 54.,  9.])"
      ]
     },
     "execution_count": 40,
     "metadata": {},
     "output_type": "execute_result"
    }
   ],
   "source": [
    "#sum(array_2d)\n",
    "array_2d.sum(axis=1)"
   ]
  },
  {
   "cell_type": "code",
   "execution_count": 45,
   "id": "4c3b509c",
   "metadata": {},
   "outputs": [
    {
     "data": {
      "text/plain": [
       "[2, 4, 6, 8]"
      ]
     },
     "execution_count": 45,
     "metadata": {},
     "output_type": "execute_result"
    }
   ],
   "source": [
    "list(range(2,10,2))"
   ]
  },
  {
   "cell_type": "code",
   "execution_count": 49,
   "id": "30810f71",
   "metadata": {},
   "outputs": [
    {
     "data": {
      "text/plain": [
       "array([[11., 12., 13.],\n",
       "       [14., 15., 16.],\n",
       "       [17., 18., 19.],\n",
       "       [ 2.,  3.,  4.]])"
      ]
     },
     "execution_count": 49,
     "metadata": {},
     "output_type": "execute_result"
    }
   ],
   "source": [
    "array_2d[:]"
   ]
  },
  {
   "cell_type": "code",
   "execution_count": 62,
   "id": "7451e301",
   "metadata": {},
   "outputs": [],
   "source": [
    "#array_2d[0,:]\n",
    "#array_2d[:,1]\n",
    "#array_2d[2:4,1:]\n",
    "#array_2d[0:4:3,0:3:2]\n",
    "#array_2d[::-1]"
   ]
  },
  {
   "cell_type": "code",
   "execution_count": null,
   "id": "05d04220",
   "metadata": {},
   "outputs": [],
   "source": []
  }
 ],
 "metadata": {
  "kernelspec": {
   "display_name": "Python 3 (ipykernel)",
   "language": "python",
   "name": "python3"
  },
  "language_info": {
   "codemirror_mode": {
    "name": "ipython",
    "version": 3
   },
   "file_extension": ".py",
   "mimetype": "text/x-python",
   "name": "python",
   "nbconvert_exporter": "python",
   "pygments_lexer": "ipython3",
   "version": "3.9.12"
  }
 },
 "nbformat": 4,
 "nbformat_minor": 5
}
